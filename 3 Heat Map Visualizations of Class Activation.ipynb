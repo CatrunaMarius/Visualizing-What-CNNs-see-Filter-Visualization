{
 "nbformat": 4,
 "nbformat_minor": 2,
 "metadata": {
  "language_info": {
   "name": "python",
   "codemirror_mode": {
    "name": "ipython",
    "version": 3
   }
  },
  "orig_nbformat": 2,
  "file_extension": ".py",
  "mimetype": "text/x-python",
  "name": "python",
  "npconvert_exporter": "python",
  "pygments_lexer": "ipython3",
  "version": 3
 },
 "cells": [
  {
   "cell_type": "markdown",
   "metadata": {},
   "source": [
    "## Vizualizarea Heatmap-urilor activari clasei\n",
    "\n",
    "Heatmap ale activarilor clasei sunt de mare ajutor in identificarea partilor unei imagini care au condus CNN la clasificarea finala. Devine foarte important atunci cand analizam datele clasificate gresit.\n",
    "\n",
    "Vom folosi o implementare a map de activare a clasei (CAM) care a fost utilizata in lucrarea, [**\"Grad-CAM: Visual Explanations from Deep Networks via Gradient-based Localization\"**](https://arxiv.org/abs/1610.02391)"
   ]
  },
  {
   "cell_type": "markdown",
   "metadata": {},
   "source": [
    "Se incarca VGG16 cu weights pretinse"
   ]
  },
  {
   "cell_type": "code",
   "execution_count": null,
   "metadata": {},
   "outputs": [],
   "source": [
    "from keras.applications import VGG16\n",
    "from keras import backend as K\n",
    "import numpy as np\n",
    "import matplotlib.pyplot as plt\n",
    "from keras.preprocessing import image\n",
    "from keras.applications.vgg16 import preprocess_input, decode_predictions\n",
    "\n",
    "model = VGG16(weights='imagenet')"
   ]
  },
  {
   "cell_type": "markdown",
   "metadata": {},
   "source": [
    "incarca imaginea de test cu tigrul"
   ]
  },
  {
   "cell_type": "code",
   "execution_count": null,
   "metadata": {},
   "outputs": [],
   "source": [
    "imp_path = ''\n",
    "\n",
    "img1 = image.load_img(imp_path)\n",
    "plt.imshow(img1)\n",
    "\n",
    "img = image.load_img(img_path, target_size=(224, 224))\n",
    "\n",
    "x= image.img_to_array(img)\n",
    "x= np.expand_dims(x, axis=0)\n",
    "x = preprocess_input(x)\n"
   ]
  },
  {
   "cell_type": "markdown",
   "metadata": {},
   "source": [
    "Obtine predictiei ImageNet VGG16 pentru imaginea de intrare"
   ]
  },
  {
   "cell_type": "code",
   "execution_count": null,
   "metadata": {},
   "outputs": [],
   "source": [
    "preds = model.predict(x)\n",
    "print('Predicted:', decode_predictions(preds, top=3)[0])"
   ]
  },
  {
   "cell_type": "markdown",
   "metadata": {},
   "source": [
    "Obtinerea indicelui de clasa"
   ]
  },
  {
   "cell_type": "code",
   "execution_count": null,
   "metadata": {},
   "outputs": [],
   "source": [
    "np.argmax(preds[0])"
   ]
  },
  {
   "cell_type": "markdown",
   "metadata": {},
   "source": [
    "Iesiti map caracteristicilor stratului block4_conv3, ultimul strat convolutiv din VGG16"
   ]
  },
  {
   "cell_type": "code",
   "execution_count": null,
   "metadata": {},
   "outputs": [],
   "source": [
    "tiger_output = model.output[:, 292]\n",
    "last_conv_layer = model.get_layer('block5_conv3')\n",
    "\n",
    "#Gradients ai clasei Tiger wrt la fisierul block5_conv3\n",
    "grads = K.gradients(tiger_output, last_conv_layer.output)[0]\n",
    "\n",
    "# Fiecare intrare este intesitatea medie a gradientului in functie de un anumit canal de caracterisici map\n",
    "pooled_grads = K.mean(grads, axis=(0, 1, 2))\n",
    "\n",
    "#Aceseaza valorile pe care le-am definit avand in vedere imaginea de proba\n",
    "iterate = K.function([model.input], [pooled_grads, last_conv_layer.output[0]])\n",
    "\n",
    "#Valorile pooled_grads_value, conv_layer_output_value date imaginii noastre de intrare\n",
    "pooled_grads_value, conv_layer_output_value = iterate([x])\n",
    "\n",
    "#Inmultim fiecare canal din matricea  caracteristici cu \"inportanta\"\n",
    "#a acestui canal in ceea ce privind imaginea de intrare\n",
    "for i in range(512):\n",
    "    #Mijlocul înțelept al canalului din harta funcțională rezultată este Cartea de Vânzare a CAM\n",
    "    conv_layer_output_value[:, :, i] *=pooled_grads_value[i]\n",
    "\n",
    "heatmap = np.mean(conv_layer_output_value, axis=-1)\n"
   ]
  },
  {
   "cell_type": "markdown",
   "metadata": {},
   "source": [
    "Ploting out Heat-Map"
   ]
  },
  {
   "cell_type": "code",
   "execution_count": null,
   "metadata": {},
   "outputs": [],
   "source": [
    "heatmap = np.maximum(heatmap, 0)\n",
    "heatmap /= np.max(heatmap)\n",
    "plt.matshow(heatmap)\n"
   ]
  },
  {
   "cell_type": "code",
   "execution_count": null,
   "metadata": {},
   "outputs": [],
   "source": [
    "import cv2\n",
    "\n",
    "img cv2.imread(img_path)\n",
    "heatmap = cv2.resize(heatmap, (img.shape[1], img.shape[0]))\n",
    "heatmap = np.uint8(255 * heatmap)\n",
    "heatmap = cv2.applyColorMap(heatmap, cv2.COLORMAP_JET)\n",
    "superimposed_img = heatmap * 0.4 + img\n",
    "\n",
    "save_img_path = ''\n",
    "\n",
    "cv2.imwrite(save_img_path, superimposed_img)\n",
    "\n",
    "img1 = image.load_img(save_img_path)\n",
    "plt.imshow(img1)"
   ]
  }
 ]
}